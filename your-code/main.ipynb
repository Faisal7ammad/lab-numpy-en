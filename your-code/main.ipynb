{
 "cells": [
  {
   "cell_type": "markdown",
   "metadata": {
    "toc": true
   },
   "source": [
    "<h1>Table of Contents<span class=\"tocSkip\"></span></h1>\n",
    "<div class=\"toc\"><ul class=\"toc-item\"></ul></div>"
   ]
  },
  {
   "cell_type": "code",
   "execution_count": 66,
   "metadata": {
    "ExecuteTime": {
     "end_time": "2024-05-23T13:49:05.649565Z",
     "start_time": "2024-05-23T13:49:05.632543Z"
    }
   },
   "outputs": [
    {
     "name": "stdout",
     "output_type": "stream",
     "text": [
      "1.19.2\n"
     ]
    }
   ],
   "source": [
    "# %load main.py\n",
    "#1. Import the NUMPY package under the name np.\n",
    "\n",
    "import numpy as np\n",
    "\n",
    "#2. Print the NUMPY version and the configuration.\n",
    "\n",
    "print(np.__version__)"
   ]
  },
  {
   "cell_type": "code",
   "execution_count": 67,
   "metadata": {
    "ExecuteTime": {
     "end_time": "2024-05-23T13:49:05.714971Z",
     "start_time": "2024-05-23T13:49:05.658613Z"
    }
   },
   "outputs": [
    {
     "data": {
      "text/plain": [
       "array([[[0.87724496, 0.98968635, 0.29357098, 0.58024644, 0.62273585],\n",
       "        [0.36095743, 0.09042393, 0.69961831, 0.67826645, 0.11453798],\n",
       "        [0.55889551, 0.55831214, 0.32845193, 0.03789879, 0.41344782]],\n",
       "\n",
       "       [[0.49897366, 0.48345078, 0.1746623 , 0.7546645 , 0.59000484],\n",
       "        [0.94013123, 0.9171581 , 0.70847687, 0.99294922, 0.81082667],\n",
       "        [0.56086454, 0.88658567, 0.85675791, 0.36802297, 0.78267936]]])"
      ]
     },
     "execution_count": 67,
     "metadata": {},
     "output_type": "execute_result"
    }
   ],
   "source": [
    "#3. Generate a 2x3x5 3-dimensional array with random values. Assign the array to variable \"a\"\n",
    "# Challenge: there are at least three easy ways that use numpy to generate random arrays. How many ways can you find?\n",
    "\n",
    "a = np.random.random((2,3,5))\n",
    "a"
   ]
  },
  {
   "cell_type": "code",
   "execution_count": 68,
   "metadata": {
    "ExecuteTime": {
     "end_time": "2024-05-23T13:49:05.745156Z",
     "start_time": "2024-05-23T13:49:05.733578Z"
    }
   },
   "outputs": [
    {
     "name": "stdout",
     "output_type": "stream",
     "text": [
      "[[[0.87724496 0.98968635 0.29357098 0.58024644 0.62273585]\n",
      "  [0.36095743 0.09042393 0.69961831 0.67826645 0.11453798]\n",
      "  [0.55889551 0.55831214 0.32845193 0.03789879 0.41344782]]\n",
      "\n",
      " [[0.49897366 0.48345078 0.1746623  0.7546645  0.59000484]\n",
      "  [0.94013123 0.9171581  0.70847687 0.99294922 0.81082667]\n",
      "  [0.56086454 0.88658567 0.85675791 0.36802297 0.78267936]]]\n"
     ]
    }
   ],
   "source": [
    "#4. Print a.\n",
    "\n",
    "print(a)\n"
   ]
  },
  {
   "cell_type": "code",
   "execution_count": 69,
   "metadata": {
    "ExecuteTime": {
     "end_time": "2024-05-23T13:49:05.755318Z",
     "start_time": "2024-05-23T13:49:05.749442Z"
    }
   },
   "outputs": [],
   "source": [
    "#5. Create a 5x2x3 3-dimensional array with all values equaling 1.\n",
    "#Assign the array to variable \"b\"\n",
    "\n",
    "b = np.ones((5,2,3))"
   ]
  },
  {
   "cell_type": "code",
   "execution_count": 70,
   "metadata": {
    "ExecuteTime": {
     "end_time": "2024-05-23T13:49:05.768944Z",
     "start_time": "2024-05-23T13:49:05.762095Z"
    }
   },
   "outputs": [
    {
     "name": "stdout",
     "output_type": "stream",
     "text": [
      "[[[1. 1. 1.]\n",
      "  [1. 1. 1.]]\n",
      "\n",
      " [[1. 1. 1.]\n",
      "  [1. 1. 1.]]\n",
      "\n",
      " [[1. 1. 1.]\n",
      "  [1. 1. 1.]]\n",
      "\n",
      " [[1. 1. 1.]\n",
      "  [1. 1. 1.]]\n",
      "\n",
      " [[1. 1. 1.]\n",
      "  [1. 1. 1.]]]\n"
     ]
    }
   ],
   "source": [
    "#6. Print b.\n",
    "\n",
    "print(b)\n"
   ]
  },
  {
   "cell_type": "code",
   "execution_count": 71,
   "metadata": {
    "ExecuteTime": {
     "end_time": "2024-05-23T13:49:05.789346Z",
     "start_time": "2024-05-23T13:49:05.773521Z"
    }
   },
   "outputs": [
    {
     "data": {
      "text/plain": [
       "True"
      ]
     },
     "execution_count": 71,
     "metadata": {},
     "output_type": "execute_result"
    }
   ],
   "source": [
    "#7. Do a and b have the same size? How do you prove that in Python code?\n",
    "\n",
    "np.size(a) == np.size(b)"
   ]
  },
  {
   "cell_type": "code",
   "execution_count": 72,
   "metadata": {
    "ExecuteTime": {
     "end_time": "2024-05-23T13:49:05.811366Z",
     "start_time": "2024-05-23T13:49:05.799399Z"
    }
   },
   "outputs": [
    {
     "data": {
      "text/plain": [
       "47.53050348182472"
      ]
     },
     "execution_count": 72,
     "metadata": {},
     "output_type": "execute_result"
    }
   ],
   "source": [
    "#8. Are you able to add a and b? Why or why not?\n",
    "\n",
    "# ANSWER:\n",
    "# >> a + b >> Adding them like this does not work since they have different shapes\n",
    "# their sums can be added though:\n",
    "\n",
    "np.sum(a)+np.sum(b)\n"
   ]
  },
  {
   "cell_type": "code",
   "execution_count": 73,
   "metadata": {
    "ExecuteTime": {
     "end_time": "2024-05-23T13:49:05.904601Z",
     "start_time": "2024-05-23T13:49:05.895231Z"
    }
   },
   "outputs": [
    {
     "data": {
      "text/plain": [
       "array([[[1., 1., 1., 1., 1.],\n",
       "        [1., 1., 1., 1., 1.],\n",
       "        [1., 1., 1., 1., 1.]],\n",
       "\n",
       "       [[1., 1., 1., 1., 1.],\n",
       "        [1., 1., 1., 1., 1.],\n",
       "        [1., 1., 1., 1., 1.]]])"
      ]
     },
     "execution_count": 73,
     "metadata": {},
     "output_type": "execute_result"
    }
   ],
   "source": [
    "#9. Transpose b so that it has the same structure of a (i.e. become a 2x3x5 array). Assign the transposed array to varialbe \"c\".\n",
    "\n",
    "c = np.transpose(b,(1,2,0))\n",
    "c"
   ]
  },
  {
   "cell_type": "code",
   "execution_count": 74,
   "metadata": {
    "ExecuteTime": {
     "end_time": "2024-05-23T13:49:05.919234Z",
     "start_time": "2024-05-23T13:49:05.913595Z"
    }
   },
   "outputs": [],
   "source": [
    "#10. Try to add a and c. Now it should work. Assign the sum to varialbe \"d\". But why does it work now?\n",
    "\n",
    "d = a + c\n"
   ]
  },
  {
   "cell_type": "code",
   "execution_count": 75,
   "metadata": {
    "ExecuteTime": {
     "end_time": "2024-05-23T13:49:05.936861Z",
     "start_time": "2024-05-23T13:49:05.926331Z"
    }
   },
   "outputs": [
    {
     "name": "stdout",
     "output_type": "stream",
     "text": [
      "[[[0.87724496 0.98968635 0.29357098 0.58024644 0.62273585]\n",
      "  [0.36095743 0.09042393 0.69961831 0.67826645 0.11453798]\n",
      "  [0.55889551 0.55831214 0.32845193 0.03789879 0.41344782]]\n",
      "\n",
      " [[0.49897366 0.48345078 0.1746623  0.7546645  0.59000484]\n",
      "  [0.94013123 0.9171581  0.70847687 0.99294922 0.81082667]\n",
      "  [0.56086454 0.88658567 0.85675791 0.36802297 0.78267936]]]\n",
      "[[[1.87724496 1.98968635 1.29357098 1.58024644 1.62273585]\n",
      "  [1.36095743 1.09042393 1.69961831 1.67826645 1.11453798]\n",
      "  [1.55889551 1.55831214 1.32845193 1.03789879 1.41344782]]\n",
      "\n",
      " [[1.49897366 1.48345078 1.1746623  1.7546645  1.59000484]\n",
      "  [1.94013123 1.9171581  1.70847687 1.99294922 1.81082667]\n",
      "  [1.56086454 1.88658567 1.85675791 1.36802297 1.78267936]]]\n"
     ]
    }
   ],
   "source": [
    "#11. Print a and d. Notice the difference and relation of the two array in terms of the values? Explain.\n",
    "\n",
    "print(a)\n",
    "print(d)\n",
    "\n",
    "# >> one has the random values and one has the random values + 1's"
   ]
  },
  {
   "cell_type": "code",
   "execution_count": 76,
   "metadata": {
    "ExecuteTime": {
     "end_time": "2024-05-23T13:49:05.951763Z",
     "start_time": "2024-05-23T13:49:05.941602Z"
    }
   },
   "outputs": [
    {
     "data": {
      "text/plain": [
       "array([[[0.87724496, 0.98968635, 0.29357098, 0.58024644, 0.62273585],\n",
       "        [0.36095743, 0.09042393, 0.69961831, 0.67826645, 0.11453798],\n",
       "        [0.55889551, 0.55831214, 0.32845193, 0.03789879, 0.41344782]],\n",
       "\n",
       "       [[0.49897366, 0.48345078, 0.1746623 , 0.7546645 , 0.59000484],\n",
       "        [0.94013123, 0.9171581 , 0.70847687, 0.99294922, 0.81082667],\n",
       "        [0.56086454, 0.88658567, 0.85675791, 0.36802297, 0.78267936]]])"
      ]
     },
     "execution_count": 76,
     "metadata": {},
     "output_type": "execute_result"
    }
   ],
   "source": [
    "#12. Multiply a and c. Assign the result to e.\n",
    "\n",
    "e = a * c\n",
    "e"
   ]
  },
  {
   "cell_type": "code",
   "execution_count": 77,
   "metadata": {
    "ExecuteTime": {
     "end_time": "2024-05-23T13:49:05.966849Z",
     "start_time": "2024-05-23T13:49:05.957110Z"
    }
   },
   "outputs": [
    {
     "data": {
      "text/plain": [
       "array([[[ True,  True,  True,  True,  True],\n",
       "        [ True,  True,  True,  True,  True],\n",
       "        [ True,  True,  True,  True,  True]],\n",
       "\n",
       "       [[ True,  True,  True,  True,  True],\n",
       "        [ True,  True,  True,  True,  True],\n",
       "        [ True,  True,  True,  True,  True]]])"
      ]
     },
     "execution_count": 77,
     "metadata": {},
     "output_type": "execute_result"
    }
   ],
   "source": [
    "#13. Does e equal to a? Why or why not?\n",
    "\n",
    "e == a\n",
    "# >> yes cuz c is all 1's"
   ]
  },
  {
   "cell_type": "code",
   "execution_count": 78,
   "metadata": {
    "ExecuteTime": {
     "end_time": "2024-05-23T13:49:06.006445Z",
     "start_time": "2024-05-23T13:49:05.972925Z"
    }
   },
   "outputs": [
    {
     "name": "stdout",
     "output_type": "stream",
     "text": [
      "mean:  1.5843501160608242\n",
      "max:  1.992949219482666\n",
      "min:  1.0378987850571066\n"
     ]
    }
   ],
   "source": [
    "#14. Identify the max, min, and mean values in d. Assign those values to variables \"d_max\", \"d_min\", and \"d_mean\"\n",
    "\n",
    "d_mean = np.mean(d)\n",
    "d_max = np.max(d)\n",
    "d_min = np.min(d)\n",
    "\n",
    "print(\"mean: \", d_mean)\n",
    "print(\"max: \", d_max)\n",
    "print(\"min: \", d_min)"
   ]
  },
  {
   "cell_type": "code",
   "execution_count": 79,
   "metadata": {
    "ExecuteTime": {
     "end_time": "2024-05-23T13:49:06.053233Z",
     "start_time": "2024-05-23T13:49:06.010240Z"
    }
   },
   "outputs": [
    {
     "name": "stdout",
     "output_type": "stream",
     "text": [
      "[[[0.87724496 0.98968635 0.29357098 0.58024644 0.62273585]\n",
      "  [0.36095743 0.09042393 0.69961831 0.67826645 0.11453798]\n",
      "  [0.55889551 0.55831214 0.32845193 0.03789879 0.41344782]]\n",
      "\n",
      " [[0.49897366 0.48345078 0.1746623  0.7546645  0.59000484]\n",
      "  [0.94013123 0.9171581  0.70847687 0.99294922 0.81082667]\n",
      "  [0.56086454 0.88658567 0.85675791 0.36802297 0.78267936]]]\n"
     ]
    }
   ],
   "source": [
    "#15. Now we want to label the values in d. First create an empty array \"f\" with the same shape (i.e. 2x3x5) as d using `np.empty`.\n",
    "\n",
    "f = np.empty_like(d)\n",
    "print(f)"
   ]
  },
  {
   "cell_type": "code",
   "execution_count": 80,
   "metadata": {
    "ExecuteTime": {
     "end_time": "2024-05-23T13:49:06.113914Z",
     "start_time": "2024-05-23T13:49:06.059062Z"
    }
   },
   "outputs": [],
   "source": [
    "\"\"\"\n",
    "#16. Populate the values in f. For each value in d, if it's larger than d_min but smaller than d_mean, assign 25 to the corresponding value in f.\n",
    "If a value in d is larger than d_mean but smaller than d_max, assign 75 to the corresponding value in f.\n",
    "If a value equals to d_mean, assign 50 to the corresponding value in f.\n",
    "Assign 0 to the corresponding value(s) in f for d_min in d.\n",
    "Assign 100 to the corresponding value(s) in f for d_max in d.\n",
    "In the end, f should have only the following values: 0, 25, 50, 75, and 100.\n",
    "Note: you don't have to use Numpy in this question.\n",
    "\"\"\"\n",
    "\n",
    "f[(d > d_min) & (d < d_mean)] = 25\n",
    "f[(d < d_max) & (d > d_mean)] = 75\n",
    "f[d == d_mean] = 50\n",
    "f[d == d_min] = 0\n",
    "f[d == d_max] = 100"
   ]
  },
  {
   "cell_type": "code",
   "execution_count": 81,
   "metadata": {
    "ExecuteTime": {
     "end_time": "2024-05-23T13:49:06.143700Z",
     "start_time": "2024-05-23T13:49:06.126471Z"
    }
   },
   "outputs": [
    {
     "name": "stdout",
     "output_type": "stream",
     "text": [
      "[[[1.87724496 1.98968635 1.29357098 1.58024644 1.62273585]\n",
      "  [1.36095743 1.09042393 1.69961831 1.67826645 1.11453798]\n",
      "  [1.55889551 1.55831214 1.32845193 1.03789879 1.41344782]]\n",
      "\n",
      " [[1.49897366 1.48345078 1.1746623  1.7546645  1.59000484]\n",
      "  [1.94013123 1.9171581  1.70847687 1.99294922 1.81082667]\n",
      "  [1.56086454 1.88658567 1.85675791 1.36802297 1.78267936]]]\n",
      "[[[ 75.  75.  25.  25.  75.]\n",
      "  [ 25.  25.  75.  75.  25.]\n",
      "  [ 25.  25.  25.   0.  25.]]\n",
      "\n",
      " [[ 25.  25.  25.  75.  75.]\n",
      "  [ 75.  75.  75. 100.  75.]\n",
      "  [ 25.  75.  75.  25.  75.]]]\n"
     ]
    }
   ],
   "source": [
    "\"\"\"\n",
    "#17. Print d and f. Do you have your expected f?\n",
    "For instance, if your d is:\n",
    "array([[[1.85836099, 1.67064465, 1.62576044, 1.40243961, 1.88454931],\n",
    "        [1.75354326, 1.69403643, 1.36729252, 1.61415071, 1.12104981],\n",
    "        [1.72201435, 1.1862918 , 1.87078449, 1.7726778 , 1.88180042]],\n",
    "\n",
    "       [[1.44747908, 1.31673383, 1.02000951, 1.52218947, 1.97066381],\n",
    "        [1.79129243, 1.74983003, 1.96028037, 1.85166831, 1.65450881],\n",
    "        [1.18068344, 1.9587381 , 1.00656599, 1.93402165, 1.73514584]]])\n",
    "\n",
    "Your f should be:\n",
    "array([[[ 75.,  75.,  75.,  25.,  75.],\n",
    "        [ 75.,  75.,  25.,  25.,  25.],\n",
    "        [ 75.,  25.,  75.,  75.,  75.]],\n",
    "\n",
    "       [[ 25.,  25.,  25.,  25., 100.],\n",
    "        [ 75.,  75.,  75.,  75.,  75.],\n",
    "        [ 25.,  75.,   0.,  75.,  75.]]])\n",
    "\"\"\"\n",
    "\n",
    "print(d)\n",
    "print(f)"
   ]
  },
  {
   "cell_type": "code",
   "execution_count": 84,
   "metadata": {
    "ExecuteTime": {
     "end_time": "2024-05-23T13:56:01.130379Z",
     "start_time": "2024-05-23T13:56:01.121943Z"
    }
   },
   "outputs": [
    {
     "name": "stdout",
     "output_type": "stream",
     "text": [
      "[[['D' 'D' 'B' 'B' 'D']\n",
      "  ['B' 'B' 'D' 'D' 'B']\n",
      "  ['B' 'B' 'B' 'A' 'B']]\n",
      "\n",
      " [['B' 'B' 'B' 'D' 'D']\n",
      "  ['D' 'D' 'D' 'E' 'D']\n",
      "  ['B' 'D' 'D' 'B' 'D']]]\n"
     ]
    }
   ],
   "source": [
    "\"\"\"\n",
    "#18. Bonus question: instead of using numbers (i.e. 0, 25, 50, 75, and 100), how to use string values \n",
    "(\"A\", \"B\", \"C\", \"D\", and \"E\") to label the array elements? You are expecting the result to be:\n",
    "array([[[ 'D',  'D',  'D',  'B',  'D'],\n",
    "        [ 'D',  'D',  'B',  'B',  'B'],\n",
    "        [ 'D',  'B',  'D',  'D',  'D']],\n",
    "\n",
    "       [[ 'B',  'B',  'B',  'B',  'E'],\n",
    "        [ 'D',  'D',  'D',  'D',  'D'],\n",
    "        [ 'B',  'D',   'A',  'D', 'D']]])\n",
    "Again, you don't need Numpy in this question.\n",
    "\"\"\"\n",
    "\n",
    "f = f.astype(str)\n",
    "f[d == d_min] = \"A\"\n",
    "f[(d > d_min) & (d < d_mean)] = \"B\"\n",
    "f[d == d_mean] = \"C\"\n",
    "f[(d < d_max) & (d > d_mean)] = \"D\"\n",
    "f[d == d_max] = \"E\"\n",
    "print(f)"
   ]
  },
  {
   "cell_type": "code",
   "execution_count": null,
   "metadata": {},
   "outputs": [],
   "source": []
  }
 ],
 "metadata": {
  "kernelspec": {
   "display_name": "Python 3",
   "language": "python",
   "name": "python3"
  },
  "language_info": {
   "codemirror_mode": {
    "name": "ipython",
    "version": 3
   },
   "file_extension": ".py",
   "mimetype": "text/x-python",
   "name": "python",
   "nbconvert_exporter": "python",
   "pygments_lexer": "ipython3",
   "version": "3.8.5"
  },
  "toc": {
   "base_numbering": 1,
   "nav_menu": {},
   "number_sections": true,
   "sideBar": true,
   "skip_h1_title": false,
   "title_cell": "Table of Contents",
   "title_sidebar": "Contents",
   "toc_cell": true,
   "toc_position": {},
   "toc_section_display": true,
   "toc_window_display": false
  },
  "varInspector": {
   "cols": {
    "lenName": 16,
    "lenType": 16,
    "lenVar": 40
   },
   "kernels_config": {
    "python": {
     "delete_cmd_postfix": "",
     "delete_cmd_prefix": "del ",
     "library": "var_list.py",
     "varRefreshCmd": "print(var_dic_list())"
    },
    "r": {
     "delete_cmd_postfix": ") ",
     "delete_cmd_prefix": "rm(",
     "library": "var_list.r",
     "varRefreshCmd": "cat(var_dic_list()) "
    }
   },
   "types_to_exclude": [
    "module",
    "function",
    "builtin_function_or_method",
    "instance",
    "_Feature"
   ],
   "window_display": false
  }
 },
 "nbformat": 4,
 "nbformat_minor": 4
}
